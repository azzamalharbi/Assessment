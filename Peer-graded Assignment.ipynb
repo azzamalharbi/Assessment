{
  "metadata": {
    "kernelspec": {
      "name": "python",
      "display_name": "Python (Pyodide)",
      "language": "python"
    },
    "language_info": {
      "codemirror_mode": {
        "name": "python",
        "version": 3
      },
      "file_extension": ".py",
      "mimetype": "text/x-python",
      "name": "python",
      "nbconvert_exporter": "python",
      "pygments_lexer": "ipython3",
      "version": "3.8"
    }
  },
  "nbformat_minor": 4,
  "nbformat": 4,
  "cells": [
    {
      "cell_type": "markdown",
      "source": "# Peer-graded Assignment",
      "metadata": {}
    },
    {
      "cell_type": "markdown",
      "source": "## Introduction\nThis is an introduction for the Peer-graded Assignment using the jupyter notebook",
      "metadata": {}
    },
    {
      "cell_type": "markdown",
      "source": "### Data science languages are:\n| Language  | Purpose                                     |\n|-----------|---------------------------------------------|\n| Python    | super language >> data analysis, machine learning, and visualization |\n| R         | mostly statistical analysis |\n| SQL       | managing and querying databases             |\n| Julia     | numerical analysis         |\n| Scala     | big data processing  |\n| MATLAB    | data visualization  |\n| Java      | large-scale data processing   |\n",
      "metadata": {
        "jp-MarkdownHeadingCollapsed": true
      }
    },
    {
      "cell_type": "markdown",
      "source": "### Data science libraries are:\n| Library             | Uses|\n|------------------|-----------------------------------|\n| Pandas           | data manipulation and analysis    |\n| NumPy            | numerical computing               |\n| Matplotlib       | data visualization                |\n| Scikit-learn     | machine learning library          |\n| TensorFlow       | deep learning framework           |\n| PyTorch          | deep learning framework           |\n",
      "metadata": {}
    },
    {
      "cell_type": "markdown",
      "source": "### Data science tools are:\n| Tool             | Uses|\n|------------------|-----------------------------------|\n| Jupyter Notebook | interactive coding and data exploration |\n| Pandas           | data manipulation and analysis    |\n| NumPy            | numerical computing               |\n| Matplotlib       | data visualization                |\n| Scikit-learn     | machine learning library          |\n| TensorFlow       | deep learning framework           |\n| PyTorch          | deep learning framework           |\n",
      "metadata": {}
    },
    {
      "cell_type": "markdown",
      "source": "### Arithmetic Expressions in Programming\n\nHere are some common arithmetic operations:\n\n| Expression   | Operation                | Example       | Result |\n|--------------|--------------------------|---------------|--------|\n| `a + b`      | Addition                 | `3 + 2`       | `5`    |\n| `a - b`      | Subtraction              | `5 - 3`       | `2`    |\n| `a * b`      | Multiplication           | `4 * 3`       | `12`   |\n\n\n\n",
      "metadata": {}
    },
    {
      "cell_type": "code",
      "source": "a = 3\nb = 2\naddition = 2+3\nmulti = a*b\nprint(f\"multipling these numbers 2, 3 equal = {multi}\")\nprint(f\"and addition these numbers 2, 3 equal = {addition}\")",
      "metadata": {
        "trusted": true
      },
      "outputs": [
        {
          "name": "stdout",
          "text": "multipling these numbers 2, 3 equal = 6\nand addition these numbers 2, 3 equal = 5\n",
          "output_type": "stream"
        }
      ],
      "execution_count": 27
    },
    {
      "cell_type": "code",
      "source": "secondes = 120\nmminutes = secondes / 60\nminutes = 120  \nhours = minutes / 60\nprint(f\"{secondes} secondes is equal to {mminutes} minutes\")\nprint(f\"{minutes} minutes is equal to {hours} hours.\")\n",
      "metadata": {
        "trusted": true
      },
      "outputs": [
        {
          "name": "stdout",
          "text": "120 secondes is equal to 2.0 minutes\n120 minutes is equal to 2.0 hours.\n",
          "output_type": "stream"
        }
      ],
      "execution_count": 20
    },
    {
      "cell_type": "markdown",
      "source": "### Objectives\n\n- Understanding applying the conversions.\n- Understanding how to apply the addition and so many other mathmatical operations. \n",
      "metadata": {}
    },
    {
      "cell_type": "markdown",
      "source": "---\n**Author:** Azzam\n",
      "metadata": {}
    }
  ]
}